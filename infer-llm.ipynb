{
 "cells": [
  {
   "cell_type": "code",
   "execution_count": null,
   "metadata": {},
   "outputs": [],
   "source": [
    "# !pip install torch transformers peft accelerate bitsandbytes"
   ]
  },
  {
   "cell_type": "code",
   "execution_count": 1,
   "metadata": {
    "execution": {
     "iopub.execute_input": "2025-05-13T10:13:23.951687Z",
     "iopub.status.busy": "2025-05-13T10:13:23.951400Z",
     "iopub.status.idle": "2025-05-13T10:20:08.023948Z",
     "shell.execute_reply": "2025-05-13T10:20:08.023377Z",
     "shell.execute_reply.started": "2025-05-13T10:13:23.951666Z"
    },
    "trusted": true
   },
   "outputs": [
    {
     "name": "stderr",
     "output_type": "stream",
     "text": [
      "d:\\AnacondaFolder\\envs\\nlp\\Lib\\site-packages\\tqdm\\auto.py:21: TqdmWarning: IProgress not found. Please update jupyter and ipywidgets. See https://ipywidgets.readthedocs.io/en/stable/user_install.html\n",
      "  from .autonotebook import tqdm as notebook_tqdm\n",
      "d:\\AnacondaFolder\\envs\\nlp\\Lib\\site-packages\\huggingface_hub\\file_download.py:143: UserWarning: `huggingface_hub` cache-system uses symlinks by default to efficiently store duplicated files but your machine does not support them in C:\\Users\\Admin\\.cache\\huggingface\\hub\\models--unsloth--llama-3.2-1b-unsloth-bnb-4bit. Caching files will still work but in a degraded version that might require more space on your disk. This warning can be disabled by setting the `HF_HUB_DISABLE_SYMLINKS_WARNING` environment variable. For more details, see https://huggingface.co/docs/huggingface_hub/how-to-cache#limitations.\n",
      "To support symlinks on Windows, you either need to activate Developer Mode or to run Python as an administrator. In order to activate developer mode, see this article: https://docs.microsoft.com/en-us/windows/apps/get-started/enable-your-device-for-development\n",
      "  warnings.warn(message)\n",
      "The `load_in_4bit` and `load_in_8bit` arguments are deprecated and will be removed in the future versions. Please, pass a `BitsAndBytesConfig` object in `quantization_config` argument instead.\n",
      "d:\\AnacondaFolder\\envs\\nlp\\Lib\\site-packages\\transformers\\quantizers\\auto.py:212: UserWarning: You passed `quantization_config` or equivalent parameters to `from_pretrained` but the model you're loading already has a `quantization_config` attribute. The `quantization_config` from the model will be used.\n",
      "  warnings.warn(warning_msg)\n"
     ]
    }
   ],
   "source": [
    "from transformers import AutoTokenizer, AutoModelForCausalLM\n",
    "from peft import PeftModel, PeftConfig\n",
    "import torch\n",
    "\n",
    "# Load LoRA config\n",
    "PATH_1 = 'weights/llama3-1B'\n",
    "PATH_3 = 'weights/llama3-3B'\n",
    "PATH_8 = 'weights/llama3-8B'\n",
    "\n",
    "def get_pretrain(path):\n",
    "\n",
    "    config = PeftConfig.from_pretrained(path)\n",
    "    \n",
    "    # Load base model (same as when you fine-tuned)\n",
    "    base_model = AutoModelForCausalLM.from_pretrained(\n",
    "        config.base_model_name_or_path,\n",
    "        device_map=\"auto\",\n",
    "        torch_dtype=torch.float16,\n",
    "        load_in_4bit=True,\n",
    "    )\n",
    "    \n",
    "    # Load LoRA adapter on top of base model\n",
    "    model = PeftModel.from_pretrained(base_model, path)\n",
    "    \n",
    "    # Load tokenizer\n",
    "    tokenizer = AutoTokenizer.from_pretrained(path)\n",
    "    \n",
    "    # # Add special tokens if used during training\n",
    "    # tokenizer.add_special_tokens({\"eos_token\": \"<|eot_id|>\"})\n",
    "    # model.resize_token_embeddings(len(tokenizer))\n",
    "    \n",
    "    model.eval()\n",
    "    return model, tokenizer\n",
    "\n",
    "model_1, tokenizer_1 = get_pretrain(PATH_1)\n",
    "# model_3, tokenizer_3 = get_pretrain(PATH_3)\n",
    "# model_8, tokenizer_8 = get_pretrain(PATH_8)"
   ]
  },
  {
   "cell_type": "code",
   "execution_count": 2,
   "metadata": {
    "execution": {
     "iopub.execute_input": "2025-05-13T10:20:08.025312Z",
     "iopub.status.busy": "2025-05-13T10:20:08.025063Z",
     "iopub.status.idle": "2025-05-13T10:20:31.737857Z",
     "shell.execute_reply": "2025-05-13T10:20:31.736998Z",
     "shell.execute_reply.started": "2025-05-13T10:20:08.025294Z"
    },
    "trusted": true
   },
   "outputs": [
    {
     "name": "stdout",
     "output_type": "stream",
     "text": [
      "- Reviewing and auditing tax returns\n",
      "- Performing tax preparation and tax research\n",
      "- Processing tax returns for preparation and submission\n",
      "- Developing tax reports and analyzing tax data\n",
      "- Performing tax calculations and computations\n",
      "- Maintaining tax records and reports\n",
      "- Collaborating with tax professionals and other departments\n",
      "- Performing tax compliance checks\n",
      "- Identifying tax issues and preparing solutions\n",
      "- Providing tax-related information and advice\n",
      "- Updating tax regulations and laws\n",
      "- Advising and training staff on tax matters\n",
      "<EOS>\n",
      "****************************************************************************************************\n"
     ]
    }
   ],
   "source": [
    "def ask(question, model, tokenizer):\n",
    "    prompt = f\"### Input:\\n{question}\\n\\n### Response:\\n\"\n",
    "    inputs = tokenizer(prompt, return_tensors=\"pt\").to(model.device)\n",
    "\n",
    "    with torch.no_grad():\n",
    "        outputs = model.generate(\n",
    "            **inputs,\n",
    "            max_new_tokens=300,\n",
    "            do_sample=True,\n",
    "            temperature=0.7,\n",
    "            top_p=0.9,\n",
    "            eos_token_id=tokenizer.eos_token_id,\n",
    "            pad_token_id=tokenizer.pad_token_id or tokenizer.eos_token_id,\n",
    "        )\n",
    "\n",
    "    decoded = tokenizer.decode(outputs[0], skip_special_tokens=True)\n",
    "\n",
    "    if \"### Response:\" in decoded:\n",
    "        response = decoded.split(\"### Response:\")[1].split(\"### Input:\")[0].strip()\n",
    "        response += \"\\n<EOS>\"\n",
    "    else:\n",
    "        response = decoded[len(prompt):].strip()\n",
    "\n",
    "    return response\n",
    "\n",
    "print(ask(\"What is the list of responsibility of a Senior Tax and Accounting Specialist?\", model_1, tokenizer_1))\n",
    "print('*' * 100)\n",
    "# print(ask(\"What is the list of responsibility of a Senior Tax and Accounting Specialist?\", model_3, tokenizer_3))\n",
    "# print('*' * 100)\n",
    "# print(ask(\"What is the list of responsibility of a Senior Tax and Accounting Specialist?\", model_8, tokenizer_8))"
   ]
  },
  {
   "cell_type": "code",
   "execution_count": null,
   "metadata": {
    "trusted": true
   },
   "outputs": [],
   "source": []
  }
 ],
 "metadata": {
  "kaggle": {
   "accelerator": "gpu",
   "dataSources": [
    {
     "sourceId": 239330521,
     "sourceType": "kernelVersion"
    }
   ],
   "dockerImageVersionId": 31012,
   "isGpuEnabled": true,
   "isInternetEnabled": true,
   "language": "python",
   "sourceType": "notebook"
  },
  "kernelspec": {
   "display_name": "Python 3",
   "language": "python",
   "name": "python3"
  },
  "language_info": {
   "codemirror_mode": {
    "name": "ipython",
    "version": 3
   },
   "file_extension": ".py",
   "mimetype": "text/x-python",
   "name": "python",
   "nbconvert_exporter": "python",
   "pygments_lexer": "ipython3",
   "version": "3.13.2"
  }
 },
 "nbformat": 4,
 "nbformat_minor": 4
}
